{
 "cells": [
  {
   "cell_type": "code",
   "execution_count": 1,
   "metadata": {},
   "outputs": [
    {
     "name": "stdout",
     "output_type": "stream",
     "text": [
      "前r个eigenvector的矩阵:\n",
      "[[-0.16466171  0.29731836]\n",
      " [ 0.39544954 -0.13547778]\n",
      " [-0.43019315  0.32455579]\n",
      " [ 0.30380687  0.88686555]\n",
      " [ 0.7342625  -0.03715646]]\n"
     ]
    }
   ],
   "source": [
    "import numpy as np\n",
    "from special_pca.pca_algo import special_pca\n",
    "M = np.random.random((5, 5))\n",
    "r = 2\n",
    "result = special_pca(M, r)\n",
    "print(\"前r个eigenvector的矩阵:\")\n",
    "print(result)\n"
   ]
  },
  {
   "cell_type": "code",
   "execution_count": null,
   "metadata": {},
   "outputs": [],
   "source": []
  }
 ],
 "metadata": {
  "kernelspec": {
   "display_name": "py311",
   "language": "python",
   "name": "python3"
  },
  "language_info": {
   "codemirror_mode": {
    "name": "ipython",
    "version": 3
   },
   "file_extension": ".py",
   "mimetype": "text/x-python",
   "name": "python",
   "nbconvert_exporter": "python",
   "pygments_lexer": "ipython3",
   "version": "3.11.9"
  }
 },
 "nbformat": 4,
 "nbformat_minor": 2
}
